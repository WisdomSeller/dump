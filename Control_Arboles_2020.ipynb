{
  "nbformat": 4,
  "nbformat_minor": 0,
  "metadata": {
    "colab": {
      "name": "Control Arboles 2020.ipynb",
      "provenance": [],
      "collapsed_sections": [],
      "include_colab_link": true
    },
    "kernelspec": {
      "name": "python3",
      "display_name": "Python 3"
    },
    "language_info": {
      "name": "python"
    }
  },
  "cells": [
    {
      "cell_type": "markdown",
      "metadata": {
        "id": "view-in-github",
        "colab_type": "text"
      },
      "source": [
        "<a href=\"https://colab.research.google.com/github/WisdomSeller/dump/blob/main/Control_Arboles_2020.ipynb\" target=\"_parent\"><img src=\"https://colab.research.google.com/assets/colab-badge.svg\" alt=\"Open In Colab\"/></a>"
      ]
    },
    {
      "cell_type": "code",
      "metadata": {
        "id": "aR3Xz0zXmB_U"
      },
      "source": [
        "  %load_ext rpy2.ipython"
      ],
      "execution_count": null,
      "outputs": []
    },
    {
      "cell_type": "code",
      "source": [
        "#Instalacion de librerias necesarias.\n",
        "%%R\n",
        "install.packages(\"tree\")\n"
      ],
      "metadata": {
        "colab": {
          "base_uri": "https://localhost:8080/"
        },
        "id": "2oL2UNomCT_k",
        "outputId": "303a8373-64df-4f1a-c399-c6865cc64a7c"
      },
      "execution_count": null,
      "outputs": [
        {
          "output_type": "stream",
          "name": "stderr",
          "text": [
            "R[write to console]: Installing package into ‘/usr/local/lib/R/site-library’\n",
            "(as ‘lib’ is unspecified)\n",
            "\n",
            "R[write to console]: trying URL 'https://cran.rstudio.com/src/contrib/tree_1.0-42.tar.gz'\n",
            "\n",
            "R[write to console]: Content type 'application/x-gzip'\n",
            "R[write to console]:  length 47949 bytes (46 KB)\n",
            "\n",
            "R[write to console]: =\n",
            "R[write to console]: =\n",
            "R[write to console]: =\n",
            "R[write to console]: =\n",
            "R[write to console]: =\n",
            "R[write to console]: =\n",
            "R[write to console]: =\n",
            "R[write to console]: =\n",
            "R[write to console]: =\n",
            "R[write to console]: =\n",
            "R[write to console]: =\n",
            "R[write to console]: =\n",
            "R[write to console]: =\n",
            "R[write to console]: =\n",
            "R[write to console]: =\n",
            "R[write to console]: =\n",
            "R[write to console]: =\n",
            "R[write to console]: =\n",
            "R[write to console]: =\n",
            "R[write to console]: =\n",
            "R[write to console]: =\n",
            "R[write to console]: =\n",
            "R[write to console]: =\n",
            "R[write to console]: =\n",
            "R[write to console]: =\n",
            "R[write to console]: =\n",
            "R[write to console]: =\n",
            "R[write to console]: =\n",
            "R[write to console]: =\n",
            "R[write to console]: =\n",
            "R[write to console]: =\n",
            "R[write to console]: =\n",
            "R[write to console]: =\n",
            "R[write to console]: =\n",
            "R[write to console]: =\n",
            "R[write to console]: =\n",
            "R[write to console]: =\n",
            "R[write to console]: =\n",
            "R[write to console]: =\n",
            "R[write to console]: =\n",
            "R[write to console]: =\n",
            "R[write to console]: =\n",
            "R[write to console]: =\n",
            "R[write to console]: =\n",
            "R[write to console]: =\n",
            "R[write to console]: =\n",
            "R[write to console]: =\n",
            "R[write to console]: =\n",
            "R[write to console]: =\n",
            "R[write to console]: =\n",
            "R[write to console]: \n",
            "\n",
            "R[write to console]: downloaded 46 KB\n",
            "\n",
            "\n",
            "R[write to console]: \n",
            "\n",
            "R[write to console]: \n",
            "R[write to console]: The downloaded source packages are in\n",
            "\t‘/tmp/RtmpRy6Qyl/downloaded_packages’\n",
            "R[write to console]: \n",
            "R[write to console]: \n",
            "\n"
          ]
        }
      ]
    },
    {
      "cell_type": "code",
      "metadata": {
        "id": "YJTG-2GVmS1d",
        "colab": {
          "base_uri": "https://localhost:8080/"
        },
        "outputId": "2030dab7-6770-4e0f-82b2-5ddb2394484a"
      },
      "source": [
        "%%R\n",
        "set.seed(123456)  #Semilla.\n",
        "library(tree)\n",
        "data <- read.table(\"pima-indians-diabetes.csv\",header=TRUE,sep=',')  #Para leer el csv.\n",
        "#Variables discretas:\n",
        "data$Nembarazada <- factor(data$Nembarazada) \n",
        "data$Diabetes <- factor(data$Diabetes)\n",
        "head(data)"
      ],
      "execution_count": null,
      "outputs": [
        {
          "output_type": "stream",
          "name": "stdout",
          "text": [
            "  Nembarazada Glucosa Presion Triceps Insulina  IMC Pedigree Edad\n",
            "1           6     148      72      35        0 33.6    0.627   50\n",
            "2           1      85      66      29        0 26.6    0.351   31\n",
            "3           8     183      64       0        0 23.3    0.672   32\n",
            "4           1      89      66      23       94 28.1    0.167   21\n",
            "5           0     137      40      35      168 43.1    2.288   33\n",
            "6           5     116      74       0        0 25.6    0.201   30\n",
            "  Diabetes....... Diabetes\n",
            "1        1;;;;;;; 1;;;;;;;\n",
            "2        0;;;;;;; 0;;;;;;;\n",
            "3        1;;;;;;; 1;;;;;;;\n",
            "4        0;;;;;;; 0;;;;;;;\n",
            "5        1;;;;;;; 1;;;;;;;\n",
            "6        0;;;;;;; 0;;;;;;;\n"
          ]
        }
      ]
    },
    {
      "cell_type": "markdown",
      "source": [
        "# **Pregunta 1**"
      ],
      "metadata": {
        "id": "FZ230XH0hPMo"
      }
    },
    {
      "cell_type": "code",
      "source": [
        "%%R\n",
        "print(dim(data))"
      ],
      "metadata": {
        "colab": {
          "base_uri": "https://localhost:8080/"
        },
        "id": "OUvlgRDWniN1",
        "outputId": "abb4b600-520a-4170-f6ce-1faad720fa8a"
      },
      "execution_count": null,
      "outputs": [
        {
          "output_type": "stream",
          "name": "stdout",
          "text": [
            "[1] 768  10\n"
          ]
        }
      ]
    },
    {
      "cell_type": "code",
      "source": [
        "#Definir Testing y Training Set\n",
        "%%R\n",
        "train_size <- floor(0.70 * nrow(data)) #Definir % de training, el resto es para testear.\n",
        "#Separar el data de entrenamiento y el de testeo.\n",
        "train_mask <- sample(seq_len(nrow(data)),size= train_size)\n",
        "train <- data[train_mask,] #70%\n",
        "test <- data[-train_mask,] #30%\n",
        "print(dim(train))\n",
        "print(dim(test))"
      ],
      "metadata": {
        "colab": {
          "base_uri": "https://localhost:8080/"
        },
        "id": "twEr8wRpd1pu",
        "outputId": "7cd2db8f-aa42-4cb9-b3c4-d76c9882f081"
      },
      "execution_count": null,
      "outputs": [
        {
          "output_type": "stream",
          "name": "stdout",
          "text": [
            "[1] 537  10\n",
            "[1] 231  10\n"
          ]
        }
      ]
    },
    {
      "cell_type": "code",
      "source": [
        "%%R\n",
        "#Construcción del árbol\n",
        "arbol = tree(Diabetes ~ Nembarazada + Glucosa + Presion + Triceps + Insulina + IMC + Pedigree + Edad, data = train)\n",
        "#Mostrar árbol\n",
        "plot(arbol)\n",
        "text(arbol, pretty=1, cex=.7)\n",
        "summary(arbol) #Data del árbol."
      ],
      "metadata": {
        "colab": {
          "base_uri": "https://localhost:8080/",
          "height": 671
        },
        "id": "bbCg8KBDee_e",
        "outputId": "e56cb2cf-1742-4ecd-bd16-36e50efa21dd"
      },
      "execution_count": null,
      "outputs": [
        {
          "output_type": "stream",
          "name": "stdout",
          "text": [
            "\n",
            "Classification tree:\n",
            "tree(formula = Diabetes ~ Nembarazada + Glucosa + Presion + Triceps + \n",
            "    Insulina + IMC + Pedigree + Edad, data = train)\n",
            "Variables actually used in tree construction:\n",
            "[1] \"Glucosa\"     \"IMC\"         \"Nembarazada\" \"Edad\"        \"Triceps\"    \n",
            "[6] \"Presion\"     \"Pedigree\"   \n",
            "Number of terminal nodes:  18 \n",
            "Residual mean deviance:  0.698 = 362.3 / 519 \n",
            "Misclassification error rate: 0.1713 = 92 / 537 \n"
          ]
        },
        {
          "output_type": "display_data",
          "data": {
            "image/png": "[encoded data removed]"
          },
          "metadata": {}
        }
      ]
    },
    {
      "cell_type": "code",
      "source": [
        "%%R\n",
        "#Generar matriz de conflicto para saber cantidad de falsos positivos y data real, por ej.\n",
        "prediccion <- predict(arbol,test,type='class')\n",
        "conf_matrix <- with(test,table(prediccion,test$Diabetes))\n",
        "conf_matrix"
      ],
      "metadata": {
        "colab": {
          "base_uri": "https://localhost:8080/"
        },
        "id": "ve76RPIrfk9z",
        "outputId": "341f2a4a-91dd-4d45-dc73-6a1f311617f7"
      },
      "execution_count": null,
      "outputs": [
        {
          "output_type": "stream",
          "name": "stdout",
          "text": [
            "          \n",
            "prediccion 0;;;;;;; 1;;;;;;;\n",
            "  0;;;;;;;      125       37\n",
            "  1;;;;;;;       34       35\n"
          ]
        }
      ]
    },
    {
      "cell_type": "code",
      "source": [
        "%%R\n",
        "acc <- sum(diag(conf_matrix))/nrow(test)\n",
        "acc #Exactitud."
      ],
      "metadata": {
        "colab": {
          "base_uri": "https://localhost:8080/"
        },
        "id": "RTp6Shf_gxAQ",
        "outputId": "76e35f06-482b-4682-fd5b-5d98bf9d6de6"
      },
      "execution_count": null,
      "outputs": [
        {
          "output_type": "stream",
          "name": "stdout",
          "text": [
            "[1] 0.6233766\n"
          ]
        }
      ]
    },
    {
      "cell_type": "code",
      "source": [
        "%%R\n",
        "miss_class_error = 1-acc\n",
        "miss_class_error #El resto."
      ],
      "metadata": {
        "colab": {
          "base_uri": "https://localhost:8080/"
        },
        "id": "AzfvZ-c7g937",
        "outputId": "c5c49784-bcb1-4a01-ffec-6fe45c894edb"
      },
      "execution_count": null,
      "outputs": [
        {
          "output_type": "stream",
          "name": "stdout",
          "text": [
            "[1] 0.3766234\n"
          ]
        }
      ]
    },
    {
      "cell_type": "markdown",
      "source": [
        "# **Pregunta 2**"
      ],
      "metadata": {
        "id": "x0tkWKX-hYKL"
      }
    },
    {
      "cell_type": "code",
      "source": [
        "#Pregunta 2\n",
        "%%R\n",
        "train2 <- data[train_mask, ]\n",
        "test2 <- data[-train_mask, ]\n",
        "arbol2 = tree(Diabetes ~ Nembarazada + Presion + Triceps + Insulina + Pedigree + Edad, data = train2)\n",
        "arbol2"
      ],
      "metadata": {
        "colab": {
          "base_uri": "https://localhost:8080/"
        },
        "id": "MFPUkZdYhax8",
        "outputId": "01dffca9-e83b-4d48-be44-f8dbf5c343f0"
      },
      "execution_count": null,
      "outputs": [
        {
          "output_type": "stream",
          "name": "stdout",
          "text": [
            "node), split, n, deviance, yval, (yprob)\n",
            "      * denotes terminal node\n",
            "\n",
            " 1) root 537 704.80 0;;;;;;; ( 0.63501 0.36499 )  \n",
            "   2) Edad < 28.5 250 241.70 0;;;;;;; ( 0.81200 0.18800 )  \n",
            "     4) Triceps < 34.5 203 155.40 0;;;;;;; ( 0.87192 0.12808 )  \n",
            "       8) Nembarazada: 1,2,6 106  27.30 0;;;;;;; ( 0.97170 0.02830 ) *\n",
            "       9) Nembarazada: 0,3,4,5,8 97 106.30 0;;;;;;; ( 0.76289 0.23711 )  \n",
            "        18) Edad < 21.5 17   0.00 0;;;;;;; ( 1.00000 0.00000 ) *\n",
            "        19) Edad > 21.5 80  95.98 0;;;;;;; ( 0.71250 0.28750 )  \n",
            "          38) Pedigree < 0.6355 70  75.26 0;;;;;;; ( 0.77143 0.22857 ) *\n",
            "          39) Pedigree > 0.6355 10  12.22 1;;;;;;; ( 0.30000 0.70000 ) *\n",
            "     5) Triceps > 34.5 47  64.62 0;;;;;;; ( 0.55319 0.44681 )  \n",
            "      10) Pedigree < 0.7185 42  55.82 0;;;;;;; ( 0.61905 0.38095 ) *\n",
            "      11) Pedigree > 0.7185 5   0.00 1;;;;;;; ( 0.00000 1.00000 ) *\n",
            "   3) Edad > 28.5 287 397.40 1;;;;;;; ( 0.48084 0.51916 )  \n",
            "     6) Insulina < 123.5 207 282.90 0;;;;;;; ( 0.57005 0.42995 )  \n",
            "      12) Nembarazada: 1,2,3,5,12 70  79.81 0;;;;;;; ( 0.74286 0.25714 ) *\n",
            "      13) Nembarazada: 0,4,6,7,8,9,10,11,13,14,15 137 189.70 1;;;;;;; ( 0.48175 0.51825 ) *\n",
            "     7) Insulina > 123.5 80  89.97 1;;;;;;; ( 0.25000 0.75000 )  \n",
            "      14) Nembarazada: 4,6,13 19  21.90 0;;;;;;; ( 0.73684 0.26316 ) *\n",
            "      15) Nembarazada: 0,1,2,3,5,7,8,9,10,11,12,14 61  39.22 1;;;;;;; ( 0.09836 0.90164 )  \n",
            "        30) Nembarazada: 2,3,7,9 29  29.57 1;;;;;;; ( 0.20690 0.79310 ) *\n",
            "        31) Nembarazada: 0,1,5,8,10,11,12,14 32   0.00 1;;;;;;; ( 0.00000 1.00000 ) *\n"
          ]
        }
      ]
    },
    {
      "cell_type": "code",
      "source": [
        "%%R\n",
        "plot(arbol2)\n",
        "text(arbol2,pretty=1)\n",
        "summary(arbol2)"
      ],
      "metadata": {
        "colab": {
          "base_uri": "https://localhost:8080/",
          "height": 653
        },
        "id": "2JmRoc0Ghi3r",
        "outputId": "e2d37a76-23ff-43a2-8d34-118e03c380d6"
      },
      "execution_count": null,
      "outputs": [
        {
          "output_type": "stream",
          "name": "stdout",
          "text": [
            "\n",
            "Classification tree:\n",
            "tree(formula = Diabetes ~ Nembarazada + Presion + Triceps + Insulina + \n",
            "    Pedigree + Edad, data = train2)\n",
            "Variables actually used in tree construction:\n",
            "[1] \"Edad\"        \"Triceps\"     \"Nembarazada\" \"Pedigree\"    \"Insulina\"   \n",
            "Number of terminal nodes:  11 \n",
            "Residual mean deviance:  0.9346 = 491.6 / 526 \n",
            "Misclassification error rate: 0.2477 = 133 / 537 \n"
          ]
        },
        {
          "output_type": "display_data",
          "data": {
            "image/png": "[encoded data removed]"
          },
          "metadata": {}
        }
      ]
    },
    {
      "cell_type": "code",
      "source": [
        "%%R\n",
        "#Evaluacion Segundo Arbol\n",
        "pred <- predict(arbol2,test2,type='class')\n",
        "conf_matrix <- with(test2,table(pred,test2$Diabetes))\n",
        "conf_matrix"
      ],
      "metadata": {
        "colab": {
          "base_uri": "https://localhost:8080/"
        },
        "id": "IYDMK0Toh6Rl",
        "outputId": "c0952e24-06ac-4682-e823-f658c07eba9f"
      },
      "execution_count": null,
      "outputs": [
        {
          "output_type": "stream",
          "name": "stdout",
          "text": [
            "          \n",
            "pred       0;;;;;;; 1;;;;;;;\n",
            "  0;;;;;;;      103       31\n",
            "  1;;;;;;;       56       41\n"
          ]
        }
      ]
    },
    {
      "cell_type": "code",
      "source": [
        "%%R\n",
        "acc <- sum(diag(conf_matrix))/nrow(test2)\n",
        "acc"
      ],
      "metadata": {
        "colab": {
          "base_uri": "https://localhost:8080/"
        },
        "id": "Sk2oYdh2sXD6",
        "outputId": "f8b64efd-e2ae-41a1-d94a-1b11cb8467f8"
      },
      "execution_count": null,
      "outputs": [
        {
          "output_type": "stream",
          "name": "stdout",
          "text": [
            "[1] 0.6233766\n"
          ]
        }
      ]
    },
    {
      "cell_type": "code",
      "source": [
        "%%R\n",
        "miss_class_error <- 1 - acc\n",
        "miss_class_error"
      ],
      "metadata": {
        "colab": {
          "base_uri": "https://localhost:8080/"
        },
        "id": "WT2JG05OiiZT",
        "outputId": "492d4974-b2a7-48a9-9974-e245047da3f3"
      },
      "execution_count": null,
      "outputs": [
        {
          "output_type": "stream",
          "name": "stdout",
          "text": [
            "[1] 0.3766234\n"
          ]
        }
      ]
    },
    {
      "cell_type": "markdown",
      "source": [
        "# **Pregunta 3**\n",
        "(2,30,71,26,5.3, 27, 0.33, 40)                         \n",
        "Edad (40) < 28.5 --> NO (DERECHA)                    \n",
        "Insulina (5.3) < 123.5 --> YES (IZQUIERDA)                       \n",
        "Nembarazada (2) == 1,2,3,5,12 --> YES (IZQUIERDA)                                 \n",
        "CLASS = NO DIABETES"
      ],
      "metadata": {
        "id": "j8UaQCTgisfE"
      }
    }
  ]
}